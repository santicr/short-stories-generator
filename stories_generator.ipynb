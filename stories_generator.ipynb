{
 "cells": [
  {
   "cell_type": "markdown",
   "metadata": {},
   "source": [
    "## Generador de historias usando IA"
   ]
  },
  {
   "cell_type": "markdown",
   "metadata": {},
   "source": [
    "### Librerías"
   ]
  },
  {
   "cell_type": "code",
   "execution_count": 1,
   "metadata": {},
   "outputs": [],
   "source": [
    "from transformers import pipeline, TextGenerationPipeline, GPT2LMHeadModel, AutoTokenizer\n",
    "from dotenv import dotenv_values\n",
    "from translate import Translator"
   ]
  },
  {
   "cell_type": "markdown",
   "metadata": {},
   "source": [
    "### Entrada del usuario"
   ]
  },
  {
   "cell_type": "markdown",
   "metadata": {},
   "source": [
    "Esta parte del código es simplemente para leer las entradas e imprimir mensajes para que el usuario se pueda guiar. Las entradas son los géneros de la aplicación."
   ]
  },
  {
   "cell_type": "code",
   "execution_count": 2,
   "metadata": {},
   "outputs": [
    {
     "name": "stdout",
     "output_type": "stream",
     "text": [
      "Hola usuario\n",
      "Bienvenido al generador de historias cortas!\n",
      "Los géneros disponibles son los siguientes: \n",
      "romance\n",
      "aventura\n",
      "misterio\n",
      "fantasia\n",
      "comedia\n",
      "paranormal\n",
      "ciencia-ficcion\n",
      "Por favor ingresa el nombre del genero tal cual como aparece\n",
      "Por favor ingresa el nombre del genero tal cual como aparece\n",
      "Por favor ingresa el nombre del genero tal cual como aparece\n",
      "Por favor ingresa el nombre del genero tal cual como aparece\n",
      "Por favor ingresa el nombre del genero tal cual como aparece\n",
      "Por favor ingresa el nombre del genero tal cual como aparece\n",
      "Por favor ingresa el nombre del genero tal cual como aparece\n",
      "Por favor ingresa el nombre del genero tal cual como aparece\n",
      "Por favor ingresa el nombre del genero tal cual como aparece\n",
      "Por favor ingresa el nombre del genero tal cual como aparece\n",
      "Por favor ingresa el nombre del genero tal cual como aparece\n"
     ]
    }
   ],
   "source": [
    "genres = [\"romance\", \"adventure\", \"mystery-&-detective\", \"fantasy\", \"humor-&-comedy\", \"paranormal\", \"science-fiction\"]\n",
    "generos = [\"romance\", \"aventura\", \"misterio\", \"fantasia\", \"comedia\", \"paranormal\", \"ciencia-ficcion\"]\n",
    "mapa = {generos[i]:genres[i] for i in range(len(generos))}\n",
    "\n",
    "print(\"Hola usuario\")\n",
    "print(\"Bienvenido al generador de historias cortas!\")\n",
    "print(\"Los géneros disponibles son los siguientes: \")\n",
    "\n",
    "for genero in generos:\n",
    "    print(genero)\n",
    "\n",
    "genero = input(\"Escribe el genero aqui: \").lower()\n",
    "\n",
    "while genero not in generos:\n",
    "    print(\"Por favor ingresa el nombre del genero tal cual como aparece\")\n",
    "    genero = input(\"Escribe el genero aqui: \").lower()"
   ]
  },
  {
   "cell_type": "markdown",
   "metadata": {},
   "source": [
    "### Cuerpo y salida"
   ]
  },
  {
   "cell_type": "markdown",
   "metadata": {},
   "source": [
    "#### Cuerpo y lógica de la aplicación"
   ]
  },
  {
   "cell_type": "markdown",
   "metadata": {},
   "source": [
    "Esta función simplemente quita 2 palabras que están al inicio cuando se genera el texto, las cuales son el género y BOS, el resto del texto, es la historia"
   ]
  },
  {
   "cell_type": "code",
   "execution_count": 3,
   "metadata": {},
   "outputs": [],
   "source": [
    "\"\"\"\n",
    "Entradas: Historia\n",
    "Salidas: Nueva historia sin las palabras mencionadas\n",
    "\"\"\"\n",
    "def arreglar_historia(historia):\n",
    "    nueva_historia = \"\"\n",
    "    historia = historia.split()\n",
    "\n",
    "    for i in range(2, len(historia)):\n",
    "        if i != 2:\n",
    "            nueva_historia += \" \"\n",
    "        nueva_historia += historia[i]\n",
    "\n",
    "    return nueva_historia"
   ]
  },
  {
   "cell_type": "markdown",
   "metadata": {},
   "source": [
    "Esta función, lee la base de datos de unas historias, y con el modelo GPT2, crea historias totalmente nuevas y coherentes en inglés."
   ]
  },
  {
   "cell_type": "code",
   "execution_count": 4,
   "metadata": {},
   "outputs": [],
   "source": [
    "\"\"\"\n",
    "Entadas: Género de la historia para crear.\n",
    "Salidas: Historia generada por GPT2 a partir de la base de datos genre-story-generation\n",
    "\"\"\"\n",
    "\n",
    "def generar_historia(genre):\n",
    "    model_name = \"aspis/gpt2-genre-story-generation\"  # config = {\"USER\": \"foo\", \"EMAIL\": \"foo@example.org\"}\n",
    "\n",
    "    model = GPT2LMHeadModel.from_pretrained(model_name)\n",
    "    tokenizer = AutoTokenizer.from_pretrained(model_name)\n",
    "    generator = TextGenerationPipeline(model=model, tokenizer=tokenizer)\n",
    "    input_prompt = f\"<BOS> <{genre}>\"\n",
    "    story = generator(input_prompt, max_length=400, do_sample=True,repetition_penalty=1.5, temperature=1.2, \n",
    "                top_p=0.95, top_k=50)\n",
    "    \n",
    "    return story"
   ]
  },
  {
   "cell_type": "markdown",
   "metadata": {},
   "source": [
    "#### Salida"
   ]
  },
  {
   "cell_type": "markdown",
   "metadata": {},
   "source": [
    "Aquí estoy llamando las funciones, primero, llamo la función de generar_historia con el género escogido por el usuario, una vez hecho esto, leo la historia de una lista que contiene in diccionario, posteriormente, arreglo la historia para quitar las palabras del género y BOS"
   ]
  },
  {
   "cell_type": "code",
   "execution_count": 5,
   "metadata": {},
   "outputs": [
    {
     "name": "stderr",
     "output_type": "stream",
     "text": [
      "Special tokens have been added in the vocabulary, make sure the associated word embeddings are fine-tuned or trained.\n",
      "Setting `pad_token_id` to `eos_token_id`:50256 for open-end generation.\n"
     ]
    }
   ],
   "source": [
    "historia = generar_historia(mapa[genero])\n",
    "historia = historia[0][\"generated_text\"]\n",
    "historia = arreglar_historia(historia)"
   ]
  },
  {
   "cell_type": "markdown",
   "metadata": {},
   "source": [
    "Esta función es para traducir el texto de inglés a español. Debido a que el texto tiene más de 500 palabras, debo segmentar el texto para poder traducirlo ya que solo soporta máximo, 500 palabras"
   ]
  },
  {
   "cell_type": "code",
   "execution_count": 6,
   "metadata": {},
   "outputs": [],
   "source": [
    "\"\"\"\n",
    "Entradas: Cualquier texto en inglés\n",
    "Salidas: El mismo texto pero traducido al español\n",
    "\"\"\"\n",
    "def traducir_texto(texto_ingles):\n",
    "    translator = Translator(from_lang='en', to_lang='es')\n",
    "    max_chars = 500  # Máximo de caracteres permitidos por la biblioteca\n",
    "\n",
    "    # Divide el texto en segmentos de máximo 500 caracteres\n",
    "    segmentos = [texto_ingles[i:i+max_chars] for i in range(0, len(texto_ingles), max_chars)]\n",
    "\n",
    "    # Traduce cada segmento y almacena las traducciones\n",
    "    traducciones = []\n",
    "    for segmento in segmentos:\n",
    "        traduccion_segmento = translator.translate(segmento)\n",
    "        traducciones.append(traduccion_segmento)\n",
    "\n",
    "    # Une las traducciones para obtener el texto completo traducido\n",
    "    texto_espanol = ' '.join(traducciones)\n",
    "\n",
    "    return texto_espanol\n"
   ]
  },
  {
   "cell_type": "markdown",
   "metadata": {},
   "source": [
    "Impresión de la historia generada"
   ]
  },
  {
   "cell_type": "code",
   "execution_count": 7,
   "metadata": {},
   "outputs": [
    {
     "name": "stdout",
     "output_type": "stream",
     "text": [
      "- ¿Qué? -dije. Ella no podía hablarme, pero era obvio que decía esto; como si eso de alguna manera la convenciera de algo importante en cualquier nivel del mundo más allá de nuestra comprensión, para aquellos, sabía lo fuertes que se volvieron incluso cuando estábamos separados el uno del otro nuevamente después de caer en una situación en la que todo lo que nos rodeaba comenzaba a moverse y no se unía para ciertos eventos solo cuando llegaba la gente o acababa de ser reemplazado por otra persona dentro de su grupo -asintió David. su cabeza. Las palabras llegaron muy temprano, así que sonrió. Realmente lo hizo sonreír...¡habría pasado mucho tiempo antes de que hubiera otra manera! Se sentó en mi sofá tratando de sacar lo que parecía imposible porque nadie le contó por qué debió haber sucedido el incidente de anoche en Londres, que esto probablemente sea cierto para muchos miembros dentro de esta fiesta, y una vez más, la gente siempre se pone cosas que nunca están seguros de quién más aquí sabe algo interesante en absoluto ¡ Con algunas dudas rápidas, Peter regresó con una respuesta que podría tener sentido a menos que lo estuvieras empeorando! Esto llevó a Alex a retroceder hacia el Dr. Martin directamente a cada lado hacia mí, dando mi declaración exactamente 12 horas después, antes de dejarlo solo al lado, en lugar de llevar a Michael fuera de servicio conduciendo al lado. Mi mirada atravesó a Ian demasiado rápido, pero se mantuvo firme y escuché a Paul acercarse de nuevo sosteniendo mi mano. Luego, cuando pasé junto a ellos con maravilloso asombro por su repentina partida, desde su casa, Daniel recogió el pañuelo de Simón de su asiento junto a él.-Buena suerte haciéndote justicia. \"Su voz se quedó atrás y estaba muy distante pero firme con certeza. Una sonrisa se deslizó a través de él una vez que se supo que la primera presión arterial se acercaba a los dos dígitos. Se apoderó de ambas manos apretando la mía con fuerza mientras hablaba con cuidado\" Eso no le hace nada mal a nadie... aceptará su oferta, ya ha acordado hacernos una visita anticipada durante la recepción de mañana ning\" '¡Can Billie!' \"Me llevé a Andrew', mirando hacia atrás\n"
     ]
    }
   ],
   "source": [
    "print(traducir_texto(historia))"
   ]
  }
 ],
 "metadata": {
  "kernelspec": {
   "display_name": "Python 3.10.6 64-bit",
   "language": "python",
   "name": "python3"
  },
  "language_info": {
   "codemirror_mode": {
    "name": "ipython",
    "version": 3
   },
   "file_extension": ".py",
   "mimetype": "text/x-python",
   "name": "python",
   "nbconvert_exporter": "python",
   "pygments_lexer": "ipython3",
   "version": "3.10.6"
  },
  "orig_nbformat": 4,
  "vscode": {
   "interpreter": {
    "hash": "b0fa6594d8f4cbf19f97940f81e996739fb7646882a419484c72d19e05852a7e"
   }
  }
 },
 "nbformat": 4,
 "nbformat_minor": 2
}
