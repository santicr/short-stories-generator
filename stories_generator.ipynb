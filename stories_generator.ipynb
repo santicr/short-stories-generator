{
 "cells": [
  {
   "cell_type": "markdown",
   "metadata": {},
   "source": [
    "## Short stories generator second approach"
   ]
  },
  {
   "cell_type": "markdown",
   "metadata": {},
   "source": [
    "### Libraries"
   ]
  },
  {
   "cell_type": "code",
   "execution_count": 68,
   "metadata": {},
   "outputs": [],
   "source": [
    "from transformers import pipeline, TextGenerationPipeline, GPT2LMHeadModel, AutoTokenizer\n",
    "from dotenv import dotenv_values\n",
    "from translate import Translator"
   ]
  },
  {
   "cell_type": "markdown",
   "metadata": {},
   "source": [
    "### Input: Short story genre!"
   ]
  },
  {
   "cell_type": "code",
   "execution_count": 69,
   "metadata": {},
   "outputs": [
    {
     "name": "stdout",
     "output_type": "stream",
     "text": [
      "Hola usuario\n",
      "Bienvenido al generador de historias cortas!\n",
      "Los géneros disponibles son los siguientes: \n",
      "romance\n",
      "aventura\n",
      "misterio\n",
      "fantasia\n",
      "comedia\n",
      "paranormal\n",
      "ciencia-ficcion\n"
     ]
    }
   ],
   "source": [
    "genres = [\"romance\", \"adventure\", \"mystery-&-detective\", \"fantasy\", \"humor-&-comedy\", \"paranormal\", \"science-fiction\"]\n",
    "generos = [\"romance\", \"aventura\", \"misterio\", \"fantasia\", \"comedia\", \"paranormal\", \"ciencia-ficcion\"]\n",
    "mapa = {generos[i]:genres[i] for i in range(len(generos))}\n",
    "\n",
    "print(\"Hola usuario\")\n",
    "print(\"Bienvenido al generador de historias cortas!\")\n",
    "print(\"Los géneros disponibles son los siguientes: \")\n",
    "\n",
    "for genero in generos:\n",
    "    print(genero)\n",
    "\n",
    "genero = input(\"Escribe el genero aqui: \").lower()\n",
    "\n",
    "while genero not in generos:\n",
    "    print(\"Por favor ingresa el nombre del genero tal cual como aparece\")\n",
    "    genero = input(\"Escribe el genero aqui: \").lower()"
   ]
  },
  {
   "cell_type": "markdown",
   "metadata": {},
   "source": [
    "### Body & output"
   ]
  },
  {
   "cell_type": "markdown",
   "metadata": {},
   "source": [
    "#### Body of the code (Reading a trained model)"
   ]
  },
  {
   "cell_type": "code",
   "execution_count": 70,
   "metadata": {},
   "outputs": [],
   "source": [
    "def arreglar_historia(historia):\n",
    "    nueva_historia = \"\"\n",
    "    historia = historia.split()\n",
    "\n",
    "    for i in range(2, len(historia)):\n",
    "        if i != 2:\n",
    "            nueva_historia += \" \"\n",
    "        nueva_historia += historia[i]\n",
    "\n",
    "    return nueva_historia"
   ]
  },
  {
   "cell_type": "code",
   "execution_count": 71,
   "metadata": {},
   "outputs": [],
   "source": [
    "def generar_historia(genre):\n",
    "    model_name = dotenv_values(\".env\")[\"NAME\"]  # config = {\"USER\": \"foo\", \"EMAIL\": \"foo@example.org\"}\n",
    "\n",
    "    model = GPT2LMHeadModel.from_pretrained(model_name)\n",
    "    tokenizer = AutoTokenizer.from_pretrained(model_name)\n",
    "    generator = TextGenerationPipeline(model=model, tokenizer=tokenizer)\n",
    "    input_prompt = f\"<BOS> <{genre}>\"\n",
    "    story = generator(input_prompt, max_length=400, do_sample=True,repetition_penalty=1.5, temperature=1.2, \n",
    "                top_p=0.95, top_k=50)\n",
    "    \n",
    "    return story"
   ]
  },
  {
   "cell_type": "markdown",
   "metadata": {},
   "source": [
    "#### Output"
   ]
  },
  {
   "cell_type": "code",
   "execution_count": 72,
   "metadata": {},
   "outputs": [
    {
     "name": "stderr",
     "output_type": "stream",
     "text": [
      "Special tokens have been added in the vocabulary, make sure the associated word embeddings are fine-tuned or trained.\n",
      "Setting `pad_token_id` to `eos_token_id`:50256 for open-end generation.\n"
     ]
    },
    {
     "name": "stdout",
     "output_type": "stream",
     "text": [
      "<BOS> <humor-&-comedy> \"That's not why you asked me to tell them about my visit. He doesn't know that I like your books and if his wife ever came for us...?\" Alexi demanded further hesitation in addition, as the girl raised her hands toward him over a woman who she wanted nothing more of without demanding another piece off what was right for its owner! This meant he was wrong on the part Of course Not being so sure where Toowo would end up with this book had become one thing only now realizing: That night we were having an evening party at Oneida College for some friends—who he never said anything before coming by as well,\" explained Nick. We sat talking through our drinks until after breakfast; As soon things settled into place again they became quiet when Alexis walked inside the castle room later but made it clear how nervous Thea felt toward seeing her as their guest tonight? If Nick were worried about our presence alone then the three guys headed back home together.\" But Alexis has told many times just since his arrest there wouldn be two boys around so AlexIS still wants to come in tomorrow morning\".  Mattie nodded when he brought out Ian McEwan to lead Paul Gillingham and Jason Tatham so long ago after getting arrested in 2011 the team gave evidence which Paul revealed himself is guilty have given no indication because none seemed quite satisfied Mr Keith had proof or anything like that was necessary.  In case anyone else thought to investigate Mrs Tucker or Dr O'Shewyer we need fresh blood too. Max arrived for each child today\" stated Larry \"It makes sense to go ahead please. Once all paperwork gets finished we can return here at the house!\" At last Keith called me from next door after Nick picked out what sounded exactly like something cooked and prepared chicken sauce making materials.\" All talk vanished behind Paul GILLIAN. A brief silence fell between Craig Macklinman standing there looking concerned before taking leave of Benley leaving his shoes in\n"
     ]
    }
   ],
   "source": [
    "historia = generar_historia(mapa[genero])\n",
    "historia = historia[0][\"generated_text\"]\n",
    "print(historia)\n",
    "historia = arreglar_historia(historia)"
   ]
  },
  {
   "cell_type": "code",
   "execution_count": 73,
   "metadata": {},
   "outputs": [
    {
     "name": "stdout",
     "output_type": "stream",
     "text": [
      "\"That's not why you asked me to tell them about my visit. He doesn't know that I like your books and if his wife ever came for us...?\" Alexi demanded further hesitation in addition, as the girl raised her hands toward him over a woman who she wanted nothing more of without demanding another piece off what was right for its owner! This meant he was wrong on the part Of course Not being so sure where Toowo would end up with this book had become one thing only now realizing: That night we were having an evening party at Oneida College for some friends—who he never said anything before coming by as well,\" explained Nick. We sat talking through our drinks until after breakfast; As soon things settled into place again they became quiet when Alexis walked inside the castle room later but made it clear how nervous Thea felt toward seeing her as their guest tonight? If Nick were worried about our presence alone then the three guys headed back home together.\" But Alexis has told many times just since his arrest there wouldn be two boys around so AlexIS still wants to come in tomorrow morning\". Mattie nodded when he brought out Ian McEwan to lead Paul Gillingham and Jason Tatham so long ago after getting arrested in 2011 the team gave evidence which Paul revealed himself is guilty have given no indication because none seemed quite satisfied Mr Keith had proof or anything like that was necessary. In case anyone else thought to investigate Mrs Tucker or Dr O'Shewyer we need fresh blood too. Max arrived for each child today\" stated Larry \"It makes sense to go ahead please. Once all paperwork gets finished we can return here at the house!\" At last Keith called me from next door after Nick picked out what sounded exactly like something cooked and prepared chicken sauce making materials.\" All talk vanished behind Paul GILLIAN. A brief silence fell between Craig Macklinman standing there looking concerned before taking leave of Benley leaving his shoes in\n"
     ]
    }
   ],
   "source": [
    "print(historia)"
   ]
  },
  {
   "cell_type": "code",
   "execution_count": 74,
   "metadata": {},
   "outputs": [],
   "source": [
    "def traducir_texto(texto_ingles):\n",
    "    translator = Translator(from_lang='en', to_lang='es')\n",
    "    max_chars = 500  # Máximo de caracteres permitidos por la biblioteca\n",
    "\n",
    "    # Divide el texto en segmentos de máximo 500 caracteres\n",
    "    segmentos = [texto_ingles[i:i+max_chars] for i in range(0, len(texto_ingles), max_chars)]\n",
    "\n",
    "    # Traduce cada segmento y almacena las traducciones\n",
    "    traducciones = []\n",
    "    for segmento in segmentos:\n",
    "        traduccion_segmento = translator.translate(segmento)\n",
    "        traducciones.append(traduccion_segmento)\n",
    "\n",
    "    # Une las traducciones para obtener el texto completo traducido\n",
    "    texto_espanol = ' '.join(traducciones)\n",
    "\n",
    "    return texto_espanol\n"
   ]
  },
  {
   "cell_type": "code",
   "execution_count": 75,
   "metadata": {},
   "outputs": [
    {
     "name": "stdout",
     "output_type": "stream",
     "text": [
      "-No es por eso que me pediste que les contara sobre mi visita. ¿No sabe que me gustan tus libros y si su mujer alguna vez vino por nosotros…? - ¡Alexi exigió más dudas además, ya que la niña levantó las manos hacia él por una mujer de la que no quería nada más sin exigir otra pieza de lo que era correcto para su dueño! Esto significaba que estaba equivocado por parte. Por supuesto, no estar tan seguro de dónde terminaría Toowo con este libro se había convertido en una cosa de la que solo ahora nos dimos cuenta: esa noche fuimos havi una fiesta nocturna en Oneida College para algunos amigos, a quienes nunca dijo nada antes de venir también \", explicó Nick. Nos sentamos a hablar a través de nuestras bebidas hasta después del desayuno; Tan pronto como las cosas volvieron a su lugar, se callaron cuando Alexis entró en la habitación del castillo más tarde, pero dejó en claro lo nerviosa que se sentía Thea al verla como su invitada esta noche. Si Nick estaba preocupado por nuestra presencia solo, entonces los tres chicos se dirigieron a casa juntos.\" Pero Alexis ha dicho muchas veces que solo desde su arresto habría dos chicos por ahí, así que AlexIS todavía quiere venir mañana por la mañana\". Mattie asintió cuando sacó a Ian McEwan para dirigir a Paul Gillingham y Jason Tatham hace mucho tiempo después de ser arrestado en 2011, el equipo dio pruebas de que Paul se reveló culpable, no dio ninguna indicación porque ninguno parecía bastante satisfecho de que el Sr. Keith tuviera pruebas o algo así fuera necesario. En caso de que alguien más piense investigar a la Sra. Tucker o al Dr. O'Shewyer, necesitamos sangre fresca para o. Max llegó por cada niño hoy\", declaró Larry \"Tiene sentido seguir adelante, por favor. ¡Una vez que termine todo el papeleo, podemos regresar aquí a la casa!\" Por fin Keith me llamó desde la casa de al lado después de que Nick eligió lo que sonaba exactamente como algo cocinado y preparó materiales para hacer salsa de pollo. -Todas las conversaciones se desvanecieron detrás de Paul GILLIAN. Un breve silencio cayó entre Craig Macklinman parado allí mirando preocupado antes de despedirse de Benley dejando sus zapatos en\n"
     ]
    }
   ],
   "source": [
    "print(traducir_texto(historia))"
   ]
  }
 ],
 "metadata": {
  "kernelspec": {
   "display_name": "Python 3.10.6 64-bit",
   "language": "python",
   "name": "python3"
  },
  "language_info": {
   "codemirror_mode": {
    "name": "ipython",
    "version": 3
   },
   "file_extension": ".py",
   "mimetype": "text/x-python",
   "name": "python",
   "nbconvert_exporter": "python",
   "pygments_lexer": "ipython3",
   "version": "3.10.6"
  },
  "orig_nbformat": 4,
  "vscode": {
   "interpreter": {
    "hash": "b0fa6594d8f4cbf19f97940f81e996739fb7646882a419484c72d19e05852a7e"
   }
  }
 },
 "nbformat": 4,
 "nbformat_minor": 2
}
