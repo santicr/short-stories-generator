{
 "cells": [
  {
   "cell_type": "markdown",
   "metadata": {},
   "source": [
    "## Short stories generator second approach"
   ]
  },
  {
   "cell_type": "markdown",
   "metadata": {},
   "source": [
    "### Libraries"
   ]
  },
  {
   "cell_type": "code",
   "execution_count": 92,
   "metadata": {},
   "outputs": [],
   "source": [
    "from transformers import pipeline, TextGenerationPipeline, GPT2LMHeadModel, AutoTokenizer\n",
    "from dotenv import dotenv_values\n",
    "from translate import Translator"
   ]
  },
  {
   "cell_type": "markdown",
   "metadata": {},
   "source": [
    "### Input: Short story genre!"
   ]
  },
  {
   "cell_type": "code",
   "execution_count": 93,
   "metadata": {},
   "outputs": [
    {
     "name": "stdout",
     "output_type": "stream",
     "text": [
      "Hola usuario\n",
      "Bienvenido al generador de historias cortas!\n",
      "Los géneros disponibles son los siguientes: \n",
      "romance\n",
      "aventura\n",
      "misterio\n",
      "fantasia\n",
      "comedia\n",
      "paranormal\n",
      "ciencia-ficcion\n"
     ]
    }
   ],
   "source": [
    "genres = [\"romance\", \"adventure\", \"mystery-&-detective\", \"fantasy\", \"humor-&-comedy\", \"paranormal\", \"science-fiction\"]\n",
    "generos = [\"romance\", \"aventura\", \"misterio\", \"fantasia\", \"comedia\", \"paranormal\", \"ciencia-ficcion\"]\n",
    "mapa = {generos[i]:genres[i] for i in range(len(generos))}\n",
    "\n",
    "print(\"Hola usuario\")\n",
    "print(\"Bienvenido al generador de historias cortas!\")\n",
    "print(\"Los géneros disponibles son los siguientes: \")\n",
    "\n",
    "for genero in generos:\n",
    "    print(genero)\n",
    "\n",
    "genero = input(\"Escribe el genero aqui: \").lower()\n",
    "\n",
    "while genero not in generos:\n",
    "    print(\"Por favor ingresa el nombre del genero tal cual como aparece\")\n",
    "    genero = input(\"Escribe el genero aqui: \").lower()"
   ]
  },
  {
   "cell_type": "markdown",
   "metadata": {},
   "source": [
    "### Body & output"
   ]
  },
  {
   "cell_type": "markdown",
   "metadata": {},
   "source": [
    "#### Body of the code (Reading a trained model)"
   ]
  },
  {
   "cell_type": "code",
   "execution_count": 94,
   "metadata": {},
   "outputs": [],
   "source": [
    "def arreglar_historia(historia):\n",
    "    nueva_historia = \"\"\n",
    "    historia = historia.split()\n",
    "\n",
    "    for i in range(2, len(historia)):\n",
    "        if i != 2:\n",
    "            nueva_historia += \" \"\n",
    "        nueva_historia += historia[i]\n",
    "\n",
    "    return nueva_historia"
   ]
  },
  {
   "cell_type": "code",
   "execution_count": 95,
   "metadata": {},
   "outputs": [],
   "source": [
    "def generar_historia(genre):\n",
    "    model_name = dotenv_values(\".env\")[\"NAME\"]  # config = {\"USER\": \"foo\", \"EMAIL\": \"foo@example.org\"}\n",
    "\n",
    "    model = GPT2LMHeadModel.from_pretrained(model_name)\n",
    "    tokenizer = AutoTokenizer.from_pretrained(model_name)\n",
    "    generator = TextGenerationPipeline(model=model, tokenizer=tokenizer)\n",
    "    input_prompt = f\"<BOS> <{genre}>\"\n",
    "    story = generator(input_prompt, max_length=400, do_sample=True,repetition_penalty=1.5, temperature=1.2, \n",
    "                top_p=0.95, top_k=50)\n",
    "    \n",
    "    return story"
   ]
  },
  {
   "cell_type": "markdown",
   "metadata": {},
   "source": [
    "#### Output"
   ]
  },
  {
   "cell_type": "code",
   "execution_count": 96,
   "metadata": {},
   "outputs": [
    {
     "name": "stderr",
     "output_type": "stream",
     "text": [
      "Special tokens have been added in the vocabulary, make sure the associated word embeddings are fine-tuned or trained.\n",
      "Setting `pad_token_id` to `eos_token_id`:50256 for open-end generation.\n"
     ]
    }
   ],
   "source": [
    "historia = generar_historia(mapa[genero])\n",
    "historia = historia[0][\"generated_text\"]\n",
    "historia = arreglar_historia(historia)"
   ]
  },
  {
   "cell_type": "code",
   "execution_count": 98,
   "metadata": {},
   "outputs": [],
   "source": [
    "def traducir_texto(texto_ingles):\n",
    "    translator = Translator(from_lang='en', to_lang='es')\n",
    "    max_chars = 500  # Máximo de caracteres permitidos por la biblioteca\n",
    "\n",
    "    # Divide el texto en segmentos de máximo 500 caracteres\n",
    "    segmentos = [texto_ingles[i:i+max_chars] for i in range(0, len(texto_ingles), max_chars)]\n",
    "\n",
    "    # Traduce cada segmento y almacena las traducciones\n",
    "    traducciones = []\n",
    "    for segmento in segmentos:\n",
    "        traduccion_segmento = translator.translate(segmento)\n",
    "        traducciones.append(traduccion_segmento)\n",
    "\n",
    "    # Une las traducciones para obtener el texto completo traducido\n",
    "    texto_espanol = ' '.join(traducciones)\n",
    "\n",
    "    return texto_espanol\n"
   ]
  },
  {
   "cell_type": "code",
   "execution_count": 99,
   "metadata": {},
   "outputs": [
    {
     "name": "stdout",
     "output_type": "stream",
     "text": [
      "La chica se está riendo ahora, \"Supongo que es un placer cuando dices eso. -Que me encanta lo que haces. No está de más saludarte mientras te pones las flores y haces presentaciones... ¡donaciones! -Liza se para con una mano en el brazo mientras mira al hermoso joven sentado solo fuera de su silla en la cama mirándolo fijamente a los ojos antes de devolver nuestra atención a la mía. Inmediatamente coloca su funda de teléfono al lado de Sarah, donde Japheem pide ayuda para dar todo lo que pueda ser ained a través de estar allí hasta que lleguemos a casa.\" Entonces se queda alrededor de Sarah tan abierta que Jane sabe por qué no estoy compartiendo tu comida de la hora del almuerzo aquí mismo\" ¡Camina hacia adelante besando mi culo sobre mí y mi boca después de que él haga el dulce beso, pero al final le da las dos manos de nuevo al frente también! Sin embargo, su cabeza toca a Anna solo queriendo una experiencia íntima como esta juntos. ¿Ahora era la primera vez que me separaba? Pero ella se ha besado tres veces esta noche mientras le decía a todos los demás que no ir sin su comida o dinero porque todos se estaban preparando en cuestión de minutos sabiendo cuánto les afectaría si se lo decía a alguien. ¡Quiero decir que cada miembro sabrá a quién debe llevar de todos modos! Y además de esas personas, Sarah ganó cualquier oportunidad de ir a cualquier lugar que desee, así que por favor perdona a Jason.-Lacy se agacha al lado de Andrew diciendo algo sobre cenar esta noche que no tengo intención de repetir más tarde siguiendo la conversación en lugar de ponerme en contacto con más fuerza. en Kaitlin sonríe Alex dice las palabras en voz baja. Todos asienten con la cabeza. Están empezando a caminar hacia la casa, lo que significa que he perdido una semana \", David se acerca aún más mirando hacia otro lado y sonriendo detrás de Kate haciendo lo mismo. Ambos Ben-Pauls están hablando en voz alta a sus espaldas riéndose para sí mismos aún más deleite ya que Marker parece relajado. Mi cabeza se inclina ligeramente hacia Kevin y Jessica, las dos chicas han salido de la cocina. Todo lo que Jess le dice a Alex continúa diciéndole a la suya elfo/a\n"
     ]
    }
   ],
   "source": [
    "print(traducir_texto(historia))"
   ]
  }
 ],
 "metadata": {
  "kernelspec": {
   "display_name": "Python 3.10.6 64-bit",
   "language": "python",
   "name": "python3"
  },
  "language_info": {
   "codemirror_mode": {
    "name": "ipython",
    "version": 3
   },
   "file_extension": ".py",
   "mimetype": "text/x-python",
   "name": "python",
   "nbconvert_exporter": "python",
   "pygments_lexer": "ipython3",
   "version": "3.10.6"
  },
  "orig_nbformat": 4,
  "vscode": {
   "interpreter": {
    "hash": "b0fa6594d8f4cbf19f97940f81e996739fb7646882a419484c72d19e05852a7e"
   }
  }
 },
 "nbformat": 4,
 "nbformat_minor": 2
}
